{
 "cells": [
  {
   "cell_type": "markdown",
   "metadata": {},
   "source": [
    "# 1. Import Dependencies"
   ]
  },
  {
   "cell_type": "code",
   "execution_count": 1,
   "metadata": {},
   "outputs": [
    {
     "name": "stdout",
     "output_type": "stream",
     "text": [
      "Requirement already satisfied: opencv-python in ./tfod/lib/python3.8/site-packages (4.5.3.56)\r\n",
      "Requirement already satisfied: numpy>=1.17.3 in ./tfod/lib/python3.8/site-packages (from opencv-python) (1.21.0)\r\n"
     ]
    }
   ],
   "source": [
    "!pip install opencv-python"
   ]
  },
  {
   "cell_type": "code",
   "execution_count": 1,
   "metadata": {},
   "outputs": [],
   "source": [
    "# Import opencv\n",
    "import cv2 \n",
    "\n",
    "# Import uuid\n",
    "import uuid\n",
    "\n",
    "# Import Operating System\n",
    "import os\n",
    "\n",
    "# Import time\n",
    "import time"
   ]
  },
  {
   "cell_type": "markdown",
   "metadata": {},
   "source": [
    "# 2. Define Images to Collect"
   ]
  },
  {
   "cell_type": "code",
   "execution_count": 2,
   "metadata": {},
   "outputs": [],
   "source": [
    "labels = ['thumbsup', 'thumbsdown', 'okay']\n",
    "number_imgs = 5"
   ]
  },
  {
   "cell_type": "markdown",
   "metadata": {},
   "source": [
    "# 3. Setup Folders "
   ]
  },
  {
   "cell_type": "code",
   "execution_count": 3,
   "metadata": {},
   "outputs": [],
   "source": [
    "IMAGES_PATH = os.path.join('Tensorflow', 'workspace', 'images', 'collectedimages')"
   ]
  },
  {
   "cell_type": "code",
   "execution_count": 5,
   "metadata": {},
   "outputs": [],
   "source": [
    "if not os.path.exists(IMAGES_PATH):\n",
    "    if os.name == 'posix':\n",
    "        !mkdir -p {IMAGES_PATH}\n",
    "    if os.name == 'nt':\n",
    "         !mkdir {IMAGES_PATH}\n",
    "for label in labels:\n",
    "    path = os.path.join(IMAGES_PATH, label)\n",
    "    if not os.path.exists(path):\n",
    "        !mkdir {path}"
   ]
  },
  {
   "cell_type": "markdown",
   "metadata": {},
   "source": [
    "# 4. Capture Images"
   ]
  },
  {
   "cell_type": "code",
   "execution_count": 6,
   "metadata": {},
   "outputs": [
    {
     "name": "stdout",
     "output_type": "stream",
     "text": [
      "Collecting images for thumbsup\n",
      "Collecting image 0\n",
      "Collecting image 1\n",
      "Collecting image 2\n",
      "Collecting image 3\n",
      "Collecting image 4\n",
      "Collecting images for thumbsdown\n",
      "Collecting image 0\n",
      "Collecting image 1\n",
      "Collecting image 2\n",
      "Collecting image 3\n",
      "Collecting image 4\n",
      "Collecting images for okay\n",
      "Collecting image 0\n",
      "Collecting image 1\n",
      "Collecting image 2\n",
      "Collecting image 3\n",
      "Collecting image 4\n"
     ]
    }
   ],
   "source": [
    "for label in labels:\n",
    "    cap = cv2.VideoCapture(0)\n",
    "    print('Collecting images for {}'.format(label))\n",
    "    time.sleep(5)\n",
    "    for imgnum in range(number_imgs):\n",
    "        print('Collecting image {}'.format(imgnum))\n",
    "        ret, frame = cap.read()\n",
    "        imgname = os.path.join(IMAGES_PATH,label,label+'.'+'{}.jpg'.format(str(uuid.uuid1())))\n",
    "        cv2.imwrite(imgname, frame)\n",
    "        cv2.imshow('frame', frame)\n",
    "        time.sleep(2)\n",
    "\n",
    "        if cv2.waitKey(1) & 0xFF == ord('q'):\n",
    "            break\n",
    "cap.release()\n",
    "cv2.destroyAllWindows()"
   ]
  },
  {
   "cell_type": "markdown",
   "metadata": {},
   "source": [
    "# 5. Image Labelling"
   ]
  },
  {
   "cell_type": "code",
   "execution_count": 4,
   "metadata": {},
   "outputs": [
    {
     "name": "stdout",
     "output_type": "stream",
     "text": [
      "Collecting pyqt5\n",
      "  Using cached PyQt5-5.15.4-cp36.cp37.cp38.cp39-abi3-macosx_10_13_intel.whl (7.0 MB)\n",
      "Collecting lxml\n",
      "  Using cached lxml-4.6.3-cp38-cp38-macosx_10_9_x86_64.whl (4.6 MB)\n",
      "Collecting PyQt5-Qt5>=5.15\n",
      "  Using cached PyQt5_Qt5-5.15.2-py3-none-macosx_10_13_intel.whl (40.5 MB)\n",
      "Collecting PyQt5-sip<13,>=12.8\n",
      "  Downloading PyQt5_sip-12.9.0-cp38-cp38-macosx_10_9_x86_64.whl (63 kB)\n",
      "\u001b[K     |████████████████████████████████| 63 kB 1.1 MB/s eta 0:00:01\n",
      "\u001b[?25hInstalling collected packages: PyQt5-sip, PyQt5-Qt5, pyqt5, lxml\n",
      "Successfully installed PyQt5-Qt5-5.15.2 PyQt5-sip-12.9.0 lxml-4.6.3 pyqt5-5.15.4\n"
     ]
    }
   ],
   "source": [
    "!pip install --upgrade pyqt5 lxml"
   ]
  },
  {
   "cell_type": "code",
   "execution_count": 5,
   "metadata": {},
   "outputs": [
    {
     "name": "stdout",
     "output_type": "stream",
     "text": [
      "Package           Version\r\n",
      "----------------- --------\r\n",
      "appnope           0.1.2\r\n",
      "backcall          0.2.0\r\n",
      "debugpy           1.3.0\r\n",
      "decorator         5.0.9\r\n",
      "ipykernel         6.0.2\r\n",
      "ipython           7.25.0\r\n",
      "ipython-genutils  0.2.0\r\n",
      "jedi              0.18.0\r\n",
      "jupyter-client    6.1.12\r\n",
      "jupyter-core      4.7.1\r\n",
      "lxml              4.6.3\r\n",
      "matplotlib-inline 0.1.2\r\n",
      "numpy             1.21.0\r\n",
      "opencv-python     4.5.3.56\r\n",
      "parso             0.8.2\r\n",
      "pexpect           4.8.0\r\n",
      "pickleshare       0.7.5\r\n",
      "pip               21.1.3\r\n",
      "prompt-toolkit    3.0.19\r\n",
      "ptyprocess        0.7.0\r\n",
      "Pygments          2.9.0\r\n",
      "PyQt5             5.15.4\r\n",
      "PyQt5-Qt5         5.15.2\r\n",
      "PyQt5-sip         12.9.0\r\n",
      "python-dateutil   2.8.2\r\n",
      "pyzmq             22.1.0\r\n",
      "setuptools        47.1.0\r\n",
      "six               1.16.0\r\n",
      "tornado           6.1\r\n",
      "traitlets         5.0.5\r\n",
      "wcwidth           0.2.5\r\n"
     ]
    }
   ],
   "source": [
    "!pip list"
   ]
  },
  {
   "cell_type": "code",
   "execution_count": 6,
   "metadata": {},
   "outputs": [],
   "source": [
    "LABELIMG_PATH = os.path.join('Tensorflow', 'labelimg')"
   ]
  },
  {
   "cell_type": "code",
   "execution_count": 7,
   "metadata": {},
   "outputs": [
    {
     "name": "stdout",
     "output_type": "stream",
     "text": [
      "Cloning into 'Tensorflow/labelimg'...\n",
      "remote: Enumerating objects: 1836, done.\u001b[K\n",
      "remote: Counting objects: 100% (77/77), done.\u001b[K\n",
      "remote: Compressing objects: 100% (56/56), done.\u001b[K\n",
      "remote: Total 1836 (delta 30), reused 49 (delta 16), pack-reused 1759\u001b[K\n",
      "Receiving objects: 100% (1836/1836), 232.81 MiB | 3.42 MiB/s, done.\n",
      "Resolving deltas: 100% (1078/1078), done.\n"
     ]
    }
   ],
   "source": [
    "if not os.path.exists(LABELIMG_PATH):\n",
    "    !mkdir {LABELIMG_PATH}\n",
    "    !git clone https://github.com/tzutalin/labelImg {LABELIMG_PATH}"
   ]
  },
  {
   "cell_type": "code",
   "execution_count": 8,
   "metadata": {},
   "outputs": [
    {
     "name": "stdout",
     "output_type": "stream",
     "text": [
      "pyrcc5 -o libs/resources.py resources.qrc\r\n"
     ]
    }
   ],
   "source": [
    "if os.name == 'posix':\n",
    "    !cd {LABELIMG_PATH} && make qt5py3\n",
    "if os.name =='nt':\n",
    "    !cd {LABELIMG_PATH} && pyrcc5 -o libs/resources.py resources.qrc"
   ]
  },
  {
   "cell_type": "code",
   "execution_count": 9,
   "metadata": {},
   "outputs": [
    {
     "name": "stdout",
     "output_type": "stream",
     "text": [
      "labelImg.py:965: DeprecationWarning: an integer is required (got type float).  Implicit conversion to integers using __int__ is deprecated, and may be removed in a future version of Python.\n",
      "  bar.setValue(bar.value() + bar.singleStep() * units)\n",
      "2021-07-18 10:05:25.168 python[44914:34688662] TSM AdjustCapsLockLEDForKeyTransitionHandling - _ISSetPhysicalKeyboardCapsLockLED Inhibit\n",
      "Image:/Users/kaoningyu/Desktop/Tensorflow_Detection/TFODCourse/Tensorflow/workspace/images/collectedimages/okay/okay.80d8792a-e76a-11eb-846b-acde48001122.jpg -> Annotation:/Users/kaoningyu/Desktop/Tensorflow_Detection/TFODCourse/Tensorflow/workspace/images/collectedimages/okay/okay.80d8792a-e76a-11eb-846b-acde48001122.xml\n",
      "Image:/Users/kaoningyu/Desktop/Tensorflow_Detection/TFODCourse/Tensorflow/workspace/images/collectedimages/okay/okay.85c4bca0-e76a-11eb-846b-acde48001122.jpg -> Annotation:/Users/kaoningyu/Desktop/Tensorflow_Detection/TFODCourse/Tensorflow/workspace/images/collectedimages/okay/okay.85c4bca0-e76a-11eb-846b-acde48001122.xml\n",
      "Cancel creation.\n",
      "Image:/Users/kaoningyu/Desktop/Tensorflow_Detection/TFODCourse/Tensorflow/workspace/images/collectedimages/okay/okay.834d5d7e-e76a-11eb-846b-acde48001122.jpg -> Annotation:/Users/kaoningyu/Desktop/Tensorflow_Detection/TFODCourse/Tensorflow/workspace/images/collectedimages/okay/okay.834d5d7e-e76a-11eb-846b-acde48001122.xml\n",
      "Cancel creation.\n",
      "Cancel creation.\n",
      "Image:/Users/kaoningyu/Desktop/Tensorflow_Detection/TFODCourse/Tensorflow/workspace/images/collectedimages/okay/okay.8489db18-e76a-11eb-846b-acde48001122.jpg -> Annotation:/Users/kaoningyu/Desktop/Tensorflow_Detection/TFODCourse/Tensorflow/workspace/images/collectedimages/okay/okay.8489db18-e76a-11eb-846b-acde48001122.xml\n",
      "Image:/Users/kaoningyu/Desktop/Tensorflow_Detection/TFODCourse/Tensorflow/workspace/images/collectedimages/okay/okay.82134982-e76a-11eb-846b-acde48001122.jpg -> Annotation:/Users/kaoningyu/Desktop/Tensorflow_Detection/TFODCourse/Tensorflow/workspace/images/collectedimages/okay/okay.82134982-e76a-11eb-846b-acde48001122.xml\n",
      "Image:/Users/kaoningyu/Desktop/Tensorflow_Detection/TFODCourse/Tensorflow/workspace/images/collectedimages/thumbsdown/thumbsdown.7a211fc4-e76a-11eb-846b-acde48001122.jpg -> Annotation:/Users/kaoningyu/Desktop/Tensorflow_Detection/TFODCourse/Tensorflow/workspace/images/collectedimages/thumbsdown/thumbsdown.7a211fc4-e76a-11eb-846b-acde48001122.xml\n",
      "Image:/Users/kaoningyu/Desktop/Tensorflow_Detection/TFODCourse/Tensorflow/workspace/images/collectedimages/thumbsdown/thumbsdown.7b5c12e0-e76a-11eb-846b-acde48001122.jpg -> Annotation:/Users/kaoningyu/Desktop/Tensorflow_Detection/TFODCourse/Tensorflow/workspace/images/collectedimages/thumbsdown/thumbsdown.7b5c12e0-e76a-11eb-846b-acde48001122.xml\n",
      "Image:/Users/kaoningyu/Desktop/Tensorflow_Detection/TFODCourse/Tensorflow/workspace/images/collectedimages/thumbsdown/thumbsdown.7c97689e-e76a-11eb-846b-acde48001122.jpg -> Annotation:/Users/kaoningyu/Desktop/Tensorflow_Detection/TFODCourse/Tensorflow/workspace/images/collectedimages/thumbsdown/thumbsdown.7c97689e-e76a-11eb-846b-acde48001122.xml\n",
      "Image:/Users/kaoningyu/Desktop/Tensorflow_Detection/TFODCourse/Tensorflow/workspace/images/collectedimages/thumbsdown/thumbsdown.77ab9602-e76a-11eb-846b-acde48001122.jpg -> Annotation:/Users/kaoningyu/Desktop/Tensorflow_Detection/TFODCourse/Tensorflow/workspace/images/collectedimages/thumbsdown/thumbsdown.77ab9602-e76a-11eb-846b-acde48001122.xml\n",
      "Image:/Users/kaoningyu/Desktop/Tensorflow_Detection/TFODCourse/Tensorflow/workspace/images/collectedimages/thumbsdown/thumbsdown.78e697ec-e76a-11eb-846b-acde48001122.jpg -> Annotation:/Users/kaoningyu/Desktop/Tensorflow_Detection/TFODCourse/Tensorflow/workspace/images/collectedimages/thumbsdown/thumbsdown.78e697ec-e76a-11eb-846b-acde48001122.xml\n",
      "Image:/Users/kaoningyu/Desktop/Tensorflow_Detection/TFODCourse/Tensorflow/workspace/images/collectedimages/thumbsup/thumbsup.6e55e2a6-e76a-11eb-846b-acde48001122.jpg -> Annotation:/Users/kaoningyu/Desktop/Tensorflow_Detection/TFODCourse/Tensorflow/workspace/images/collectedimages/thumbsup/thumbsup.6e55e2a6-e76a-11eb-846b-acde48001122.xml\n",
      "Image:/Users/kaoningyu/Desktop/Tensorflow_Detection/TFODCourse/Tensorflow/workspace/images/collectedimages/thumbsup/thumbsup.6faf74dc-e76a-11eb-846b-acde48001122.jpg -> Annotation:/Users/kaoningyu/Desktop/Tensorflow_Detection/TFODCourse/Tensorflow/workspace/images/collectedimages/thumbsup/thumbsup.6faf74dc-e76a-11eb-846b-acde48001122.xml\n",
      "Image:/Users/kaoningyu/Desktop/Tensorflow_Detection/TFODCourse/Tensorflow/workspace/images/collectedimages/thumbsup/thumbsup.70e9fa66-e76a-11eb-846b-acde48001122.jpg -> Annotation:/Users/kaoningyu/Desktop/Tensorflow_Detection/TFODCourse/Tensorflow/workspace/images/collectedimages/thumbsup/thumbsup.70e9fa66-e76a-11eb-846b-acde48001122.xml\n",
      "Image:/Users/kaoningyu/Desktop/Tensorflow_Detection/TFODCourse/Tensorflow/workspace/images/collectedimages/thumbsup/thumbsup.7360f024-e76a-11eb-846b-acde48001122.jpg -> Annotation:/Users/kaoningyu/Desktop/Tensorflow_Detection/TFODCourse/Tensorflow/workspace/images/collectedimages/thumbsup/thumbsup.7360f024-e76a-11eb-846b-acde48001122.xml\n",
      "Image:/Users/kaoningyu/Desktop/Tensorflow_Detection/TFODCourse/Tensorflow/workspace/images/collectedimages/thumbsup/thumbsup.72255024-e76a-11eb-846b-acde48001122.jpg -> Annotation:/Users/kaoningyu/Desktop/Tensorflow_Detection/TFODCourse/Tensorflow/workspace/images/collectedimages/thumbsup/thumbsup.72255024-e76a-11eb-846b-acde48001122.xml\n"
     ]
    }
   ],
   "source": [
    "!cd {LABELIMG_PATH} && python labelImg.py"
   ]
  },
  {
   "cell_type": "markdown",
   "metadata": {},
   "source": [
    "# 6. Move them into a Training and Testing Partition"
   ]
  },
  {
   "cell_type": "markdown",
   "metadata": {},
   "source": [
    "# OPTIONAL - 7. Compress them for Colab Training"
   ]
  },
  {
   "cell_type": "code",
   "execution_count": 20,
   "metadata": {},
   "outputs": [],
   "source": [
    "TRAIN_PATH = os.path.join('Tensorflow', 'workspace', 'images', 'train')\n",
    "TEST_PATH = os.path.join('Tensorflow', 'workspace', 'images', 'test')\n",
    "ARCHIVE_PATH = os.path.join('Tensorflow', 'workspace', 'images', 'archive.tar.gz')"
   ]
  },
  {
   "cell_type": "code",
   "execution_count": 21,
   "metadata": {},
   "outputs": [],
   "source": [
    "!tar -czf {ARCHIVE_PATH} {TRAIN_PATH} {TEST_PATH}"
   ]
  },
  {
   "cell_type": "code",
   "execution_count": null,
   "metadata": {},
   "outputs": [],
   "source": []
  }
 ],
 "metadata": {
  "kernelspec": {
   "display_name": "tfod",
   "language": "python",
   "name": "tfod"
  },
  "language_info": {
   "codemirror_mode": {
    "name": "ipython",
    "version": 3
   },
   "file_extension": ".py",
   "mimetype": "text/x-python",
   "name": "python",
   "nbconvert_exporter": "python",
   "pygments_lexer": "ipython3",
   "version": "3.8.5"
  }
 },
 "nbformat": 4,
 "nbformat_minor": 2
}
